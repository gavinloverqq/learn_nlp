{
 "cells": [
  {
   "cell_type": "markdown",
   "metadata": {},
   "source": [
    "李宏毅视频\n",
    "https://www.youtube.com/watch?v=kk6DqWreLeU"
   ]
  }
 ],
 "metadata": {
  "language_info": {
   "name": "python"
  },
  "orig_nbformat": 4
 },
 "nbformat": 4,
 "nbformat_minor": 2
}
