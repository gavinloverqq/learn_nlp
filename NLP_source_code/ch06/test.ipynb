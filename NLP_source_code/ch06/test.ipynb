{
 "cells": [
  {
   "cell_type": "code",
   "execution_count": 1,
   "metadata": {},
   "outputs": [],
   "source": [
    "import numpy as np"
   ]
  },
  {
   "cell_type": "markdown",
   "metadata": {},
   "source": [
    "梯度消失的证明"
   ]
  },
  {
   "cell_type": "code",
   "execution_count": 2,
   "metadata": {},
   "outputs": [
    {
     "name": "stdout",
     "output_type": "stream",
     "text": [
      "0: | 0.9999999958776927 | 8.244614546626394e-09\n",
      "1: | 0.7615941542245016 | 3.4625265878222203e-09\n",
      "2: | 0.6420149909943342 | 2.0353311302769948e-09\n",
      "3: | 0.5662699752701404 | 1.3826784207283282e-09\n",
      "4: | 0.5126146666417324 | 1.0193467628354625e-09\n",
      "5: | 0.47197991560014774 | 7.922719396945059e-10\n",
      "6: | 0.4397976609231439 | 6.390291303973124e-10\n",
      "7: | 0.4134767096389462 | 5.297787999420552e-10\n",
      "8: | 0.3914207225218876 | 4.4861129357283075e-10\n",
      "9: | 0.3725843741187915 | 3.86335470444337e-10\n"
     ]
    }
   ],
   "source": [
    "x = 10\n",
    "dout = 1\n",
    "for i in range(10):\n",
    "    x = np.tanh(x)\n",
    "    dout = dout*(1-x**2)\n",
    "    print(f\"{i}: | {x} | {dout}\")\n"
   ]
  }
 ],
 "metadata": {
  "kernelspec": {
   "display_name": "cupyenv",
   "language": "python",
   "name": "python3"
  },
  "language_info": {
   "codemirror_mode": {
    "name": "ipython",
    "version": 3
   },
   "file_extension": ".py",
   "mimetype": "text/x-python",
   "name": "python",
   "nbconvert_exporter": "python",
   "pygments_lexer": "ipython3",
   "version": "3.9.0"
  },
  "orig_nbformat": 4
 },
 "nbformat": 4,
 "nbformat_minor": 2
}
