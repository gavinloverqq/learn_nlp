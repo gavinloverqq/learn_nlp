{
 "cells": [
  {
   "cell_type": "code",
   "execution_count": 1,
   "metadata": {},
   "outputs": [],
   "source": [
    "import numpy as np"
   ]
  },
  {
   "cell_type": "code",
   "execution_count": 2,
   "metadata": {},
   "outputs": [
    {
     "name": "stdout",
     "output_type": "stream",
     "text": [
      "(5, 4)\n",
      "(5, 4)\n",
      "(4,)\n"
     ]
    }
   ],
   "source": [
    "import numpy as np\n",
    "T, H = 5, 4\n",
    "hs = np.random.randn(T, H)\n",
    "a = np.array([0.8, 0.1, 0.03, 0.05, 0.02]) #里使用了表示各个单词重要度的权重（记为 a）。此时，a 像概率分布一样，各元素是 0.0 ～ 1.0 的标量，总和是 1\n",
    "ar = a.reshape(5, 1).repeat(4, axis=1)\n",
    "print(ar.shape)\n",
    "# (5, 4)\n",
    "t = hs * ar\n",
    "print(t.shape)\n",
    "# (5, 4)\n",
    "c = np.sum(t, axis=0) # axis 的使用方法就会很清楚。比如，当 x 的形状为 (X, Y, Z) 时，np.sum(x, axis=1) 的输出（和）的形状为 (X, Z)。这里的重点是，求和会使一个轴“消失”。在上面的例子中，hs*ar 的形状为(5,4)，通过消除第 0 个轴，获得了形状为 (4,) 的矩阵（向量）\n",
    "print(c.shape)"
   ]
  }
 ],
 "metadata": {
  "kernelspec": {
   "display_name": "cupyenv",
   "language": "python",
   "name": "python3"
  },
  "language_info": {
   "codemirror_mode": {
    "name": "ipython",
    "version": 3
   },
   "file_extension": ".py",
   "mimetype": "text/x-python",
   "name": "python",
   "nbconvert_exporter": "python",
   "pygments_lexer": "ipython3",
   "version": "3.9.0"
  },
  "orig_nbformat": 4
 },
 "nbformat": 4,
 "nbformat_minor": 2
}
